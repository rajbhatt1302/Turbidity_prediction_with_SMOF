{
  "nbformat": 4,
  "nbformat_minor": 0,
  "metadata": {
    "colab": {
      "provenance": []
    },
    "kernelspec": {
      "name": "python3",
      "display_name": "Python 3"
    },
    "language_info": {
      "name": "python"
    }
  },
  "cells": [
    {
      "cell_type": "code",
      "source": [
        "import numpy as np\n",
        "from skimage import io\n",
        "from sklearn.feature_extraction import image\n",
        "from scipy.stats import entropy\n",
        "from sklearn.preprocessing import StandardScaler\n",
        "import spectral\n",
        "\n",
        "# Provide the path to the header file (.hdr) of your ENVI file\n",
        "hdr_file_path = '/content/LR_234_bands.hdr'\n",
        "\n",
        "# Load the ENVI file\n",
        "image_data = spectral.open_image(hdr_file_path)\n",
        "\n",
        "# Check the shape of the original image\n",
        "original_shape = image_data.shape\n",
        "print(f\"Original Image Shape: {original_shape}\")\n",
        "\n",
        "# Make lines and samples equal by zero-padding\n",
        "max_dimension = max(original_shape[0], original_shape[1])\n",
        "padded_image = np.zeros((max_dimension, max_dimension, original_shape[2]), dtype=image_data.dtype)\n",
        "padded_image[:original_shape[0], :original_shape[1], :] = image_data\n",
        "\n",
        "# Check the shape of the padded image\n",
        "padded_shape = padded_image.shape\n",
        "print(f\"Padded Image Shape: {padded_shape}\")\n",
        "\n",
        "# Create patches with equal lines and samples\n",
        "patch_size = 30  # Adjust the patch size as needed\n",
        "patches = image.extract_patches_2d(padded_image, (patch_size, patch_size, original_shape[2]))\n",
        "\n",
        "# Reshape patches to have equal lines and samples\n",
        "patches = patches.reshape(-1, patch_size, patch_size, original_shape[2])\n",
        "\n",
        "# Calculate covariance matrix and spatial coherence for each band\n",
        "num_patches = patches.shape[0]\n",
        "covariance_matrices = []\n",
        "spatial_coherence = []\n",
        "\n",
        "for band in range(original_shape[2]):\n",
        "    band_patches = patches[:, :, :, band].reshape(num_patches, -1)\n",
        "\n",
        "    # Calculate covariance matrix\n",
        "    covariance_matrix = np.cov(band_patches, rowvar=False)\n",
        "    covariance_matrices.append(covariance_matrix)\n",
        "\n",
        "    # Standardize data for spatial coherence\n",
        "    scaler = StandardScaler()\n",
        "    standardized_data = scaler.fit_transform(band_patches)\n",
        "\n",
        "    # Calculate spatial coherence using entropy\n",
        "    band_spatial_coherence = np.apply_along_axis(entropy, 1, standardized_data)\n",
        "    spatial_coherence.append(band_spatial_coherence)\n",
        "\n",
        "# Convert lists to arrays\n",
        "covariance_matrices = np.array(covariance_matrices)\n",
        "spatial_coherence = np.array(spatial_coherence)\n",
        "\n",
        "# Calculate Renyi's entropy threshold for each band\n",
        "thresholds = []\n",
        "alpha = 2  # Adjust the alpha parameter as needed\n",
        "\n",
        "for band in range(original_shape[2]):\n",
        "    band_threshold = np.percentile(spatial_coherence[band], 100 - alpha)\n",
        "    thresholds.append(band_threshold)\n",
        "\n",
        "# Display the calculated thresholds for each band\n",
        "for band, threshold in enumerate(thresholds):\n",
        "    print(f\"Band {band + 1}: Threshold = {threshold}\")\n"
      ],
      "metadata": {
        "id": "N2bQHB6EZUvm"
      },
      "execution_count": null,
      "outputs": []
    }
  ]
}